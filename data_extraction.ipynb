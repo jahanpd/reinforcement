{
 "cells": [
  {
   "cell_type": "code",
   "execution_count": 2,
   "metadata": {},
   "outputs": [
    {
     "name": "stderr",
     "output_type": "stream",
     "text": [
      "also installing the dependencies ‘globals’, ‘listenv’, ‘XML’, ‘furrr’, ‘future’\n",
      "\n",
      "Updating HTML index of packages in '.Library'\n",
      "Making 'packages.html' ... done\n"
     ]
    }
   ],
   "source": [
    "install.packages(\"BatchGetSymbols\")\n"
   ]
  },
  {
   "cell_type": "code",
   "execution_count": 5,
   "metadata": {},
   "outputs": [
    {
     "data": {
      "text/html": [
       "<time datetime=\"2019-06-19\">2019-06-19</time>"
      ],
      "text/latex": [
       "2019-06-19"
      ],
      "text/markdown": [
       "2019-06-19"
      ],
      "text/plain": [
       "[1] \"2019-06-19\""
      ]
     },
     "metadata": {},
     "output_type": "display_data"
    }
   ],
   "source": [
    "Sys.Date()"
   ]
  },
  {
   "cell_type": "code",
   "execution_count": 3,
   "metadata": {},
   "outputs": [
    {
     "name": "stderr",
     "output_type": "stream",
     "text": [
      "Loading required package: rvest\n",
      "Loading required package: xml2\n",
      "Loading required package: dplyr\n",
      "\n",
      "Attaching package: ‘dplyr’\n",
      "\n",
      "The following objects are masked from ‘package:stats’:\n",
      "\n",
      "    filter, lag\n",
      "\n",
      "The following objects are masked from ‘package:base’:\n",
      "\n",
      "    intersect, setdiff, setequal, union\n",
      "\n",
      "\n"
     ]
    },
    {
     "name": "stdout",
     "output_type": "stream",
     "text": [
      "\n",
      "Running BatchGetSymbols for:\n",
      "   tickers = FB, MMM, PETR4.SA, abcdef\n",
      "   Downloading data for benchmark ticker\n",
      "^GSPC | yahoo (1|1)"
     ]
    },
    {
     "ename": "ERROR",
     "evalue": "Error in charToDate(x): character string is not in a standard unambiguous format\n",
     "output_type": "error",
     "traceback": [
      "Error in charToDate(x): character string is not in a standard unambiguous format\nTraceback:\n",
      "1. BatchGetSymbols(tickers = tickers, first.date = first.date, last.date = last.date, \n .     freq.data = freq.data)",
      "2. myGetSymbols(ticker = bench.ticker, i.ticker = 1, length.tickers = 1, \n .     src = bench.src, first.date = first.date, last.date = last.date, \n .     do.cache = do.cache, cache.folder = cache.folder)",
      "3. dplyr::tibble(f.name = my.cache.files, ticker = sapply(l.out, \n .     function(x) x[1]), src = sapply(l.out, function(x) x[2]), \n .     first.date = as.Date(sapply(l.out, function(x) x[3])), last.date = as.Date(sapply(l.out, \n .         function(x) x[4])))",
      "4. as_tibble(lst_quos(xs, expand = TRUE))",
      "5. lst_quos(xs, expand = TRUE)",
      "6. eval_tidy(xs[[i]], unique_output)",
      "7. as.Date(sapply(l.out, function(x) x[3]))",
      "8. as.Date.character(sapply(l.out, function(x) x[3]))",
      "9. charToDate(x)",
      "10. stop(\"character string is not in a standard unambiguous format\")"
     ]
    }
   ],
   "source": [
    "library(\"BatchGetSymbols\")\n",
    "\n",
    "# set dates\n",
    "first.date <- Sys.Date() - 60\n",
    "last.date <- Sys.Date()\n",
    "freq.data <- 'daily'\n",
    "# set tickers\n",
    "tickers <- c('FB','MMM','PETR4.SA','abcdef')\n",
    "\n",
    "l.out <- BatchGetSymbols(tickers = tickers, \n",
    "                         first.date = first.date,\n",
    "                         last.date = last.date, \n",
    "                         freq.data = freq.data)"
   ]
  },
  {
   "cell_type": "code",
   "execution_count": 33,
   "metadata": {},
   "outputs": [
    {
     "ename": "ERROR",
     "evalue": "Error in eval(expr, envir, enclos): object 'l.out' not found\n",
     "output_type": "error",
     "traceback": [
      "Error in eval(expr, envir, enclos): object 'l.out' not found\nTraceback:\n"
     ]
    }
   ],
   "source": [
    "l.out"
   ]
  },
  {
   "cell_type": "code",
   "execution_count": null,
   "metadata": {},
   "outputs": [],
   "source": []
  },
  {
   "cell_type": "code",
   "execution_count": null,
   "metadata": {},
   "outputs": [],
   "source": []
  },
  {
   "cell_type": "code",
   "execution_count": null,
   "metadata": {},
   "outputs": [],
   "source": []
  }
 ],
 "metadata": {
  "kernelspec": {
   "display_name": "R",
   "language": "R",
   "name": "ir"
  },
  "language_info": {
   "codemirror_mode": "r",
   "file_extension": ".r",
   "mimetype": "text/x-r-source",
   "name": "R",
   "pygments_lexer": "r",
   "version": "3.5.1"
  }
 },
 "nbformat": 4,
 "nbformat_minor": 2
}
