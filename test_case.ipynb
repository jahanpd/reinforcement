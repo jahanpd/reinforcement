{
 "cells": [
  {
   "cell_type": "code",
   "execution_count": 1,
   "metadata": {},
   "outputs": [],
   "source": [
    "import tensorflow as tf\n",
    "from tensorflow import keras\n",
    "import random\n",
    "import numpy as np\n",
    "import pandas as pd\n",
    "import seaborn as sns\n",
    "from IPython.display import display, clear_output\n",
    "import time\n",
    "from multiprocessing.dummy import Pool\n",
    "from sklearn.preprocessing import MinMaxScaler\n",
    "from sumtree import SumTree\n",
    "\n",
    "# generate generic dataseries of 'price' movements over a 130 day period\n",
    "data = np.sin(np.arange(0,20,0.1))\n",
    "data = data.reshape(len(data),1)\n",
    "scaler = MinMaxScaler()\n",
    "scaler = scaler.fit(data)\n",
    "data = scaler.transform(data)\n",
    "data = data.reshape(1,len(data))[0] + 1\n",
    "\n",
    "config = tf.ConfigProto()\n",
    "config.gpu_options.allow_growth = True"
   ]
  },
  {
   "cell_type": "code",
   "execution_count": 2,
   "metadata": {},
   "outputs": [
    {
     "name": "stderr",
     "output_type": "stream",
     "text": [
      "WARNING: Logging before flag parsing goes to stderr.\n",
      "W0731 08:39:43.087705 140715111384896 deprecation.py:506] From /home/jahan/miniconda3/envs/ml_cpu/lib/python3.7/site-packages/tensorflow/python/ops/init_ops.py:1251: calling VarianceScaling.__init__ (from tensorflow.python.ops.init_ops) with dtype is deprecated and will be removed in a future version.\n",
      "Instructions for updating:\n",
      "Call initializer instance with the dtype argument instead of passing it to the constructor\n",
      "W0731 08:39:43.535642 140715111384896 training_utils.py:1101] Output y_pred missing from loss dictionary. We assume this was done on purpose. The fit and evaluate APIs will not be expecting any data to be passed to y_pred.\n"
     ]
    },
    {
     "name": "stdout",
     "output_type": "stream",
     "text": [
      "Model: \"train_only\"\n",
      "__________________________________________________________________________________________________\n",
      "Layer (type)                    Output Shape         Param #     Connected to                     \n",
      "==================================================================================================\n",
      "prices_in (InputLayer)          [(None, 60, 1)]      0                                            \n",
      "__________________________________________________________________________________________________\n",
      "gru (GRU)                       (None, 60, 60)       11160       prices_in[0][0]                  \n",
      "__________________________________________________________________________________________________\n",
      "gru_1 (GRU)                     (None, 60, 20)       4860        gru[0][0]                        \n",
      "__________________________________________________________________________________________________\n",
      "flatten (Flatten)               (None, 1200)         0           gru_1[0][0]                      \n",
      "__________________________________________________________________________________________________\n",
      "y_true (InputLayer)             [(None, 2)]          0                                            \n",
      "__________________________________________________________________________________________________\n",
      "is_weight (InputLayer)          [(None, 1)]          0                                            \n",
      "__________________________________________________________________________________________________\n",
      "y_pred (Dense)                  (None, 2)            2402        flatten[0][0]                    \n",
      "__________________________________________________________________________________________________\n",
      "tf_op_layer_SquaredDifference ( [(None, 2)]          0           y_pred[0][0]                     \n",
      "                                                                 y_true[0][0]                     \n",
      "__________________________________________________________________________________________________\n",
      "tf_op_layer_Mean (TensorFlowOpL [(None,)]            0           tf_op_layer_SquaredDifference[0][\n",
      "__________________________________________________________________________________________________\n",
      "tf_op_layer_mul (TensorFlowOpLa [(None, None)]       0           is_weight[0][0]                  \n",
      "                                                                 tf_op_layer_Mean[0][0]           \n",
      "__________________________________________________________________________________________________\n",
      "add_loss (AddLoss)              (None, None)         0           tf_op_layer_mul[0][0]            \n",
      "==================================================================================================\n",
      "Total params: 18,422\n",
      "Trainable params: 18,422\n",
      "Non-trainable params: 0\n",
      "__________________________________________________________________________________________________\n",
      "None\n",
      "Model: \"predict\"\n",
      "_________________________________________________________________\n",
      "Layer (type)                 Output Shape              Param #   \n",
      "=================================================================\n",
      "prices_in (InputLayer)       [(None, 60, 1)]           0         \n",
      "_________________________________________________________________\n",
      "gru_2 (GRU)                  (None, 60, 60)            11160     \n",
      "_________________________________________________________________\n",
      "gru_3 (GRU)                  (None, 60, 20)            4860      \n",
      "_________________________________________________________________\n",
      "flatten_1 (Flatten)          (None, 1200)              0         \n",
      "_________________________________________________________________\n",
      "y_pred (Dense)               (None, 2)                 2402      \n",
      "=================================================================\n",
      "Total params: 18,422\n",
      "Trainable params: 18,422\n",
      "Non-trainable params: 0\n",
      "_________________________________________________________________\n",
      "None\n"
     ]
    }
   ],
   "source": [
    "# custom loss function as per https://www.freecodecamp.org/news/improvements-in-deep-q-learning-dueling-double-dqn-prioritized-experience-replay-and-fixed-58b130cc5682/\n",
    "\n",
    "def IS(y_true, y_pred, is_weight):\n",
    "    return is_weight * keras.losses.mean_squared_error(y_true, y_pred)\n",
    "    \n",
    "\n",
    "# build deep recurrent model with keras and LSTM\n",
    "def buildmodel(is_train):\n",
    "    x = keras.layers.Input(shape=(60,1), name=\"prices_in\")\n",
    "    y_true = keras.layers.Input(shape=(2,), name=\"y_true\")\n",
    "    if is_train:\n",
    "        is_weight = keras.layers.Input(shape=(1,), name=\"is_weight\")\n",
    "    f = keras.layers.GRU(60, return_sequences=True)(x)\n",
    "    f = keras.layers.GRU(20, return_sequences=True)(f)\n",
    "    f = keras.layers.Flatten()(f)\n",
    "    y_pred = keras.layers.Dense(2, activation=tf.nn.leaky_relu, name=\"y_pred\")(f)\n",
    "    if is_train:\n",
    "        model = keras.models.Model(inputs = [x,y_true,is_weight], outputs=y_pred, name=\"train_only\")\n",
    "        model.add_loss(IS(y_true, y_pred, is_weight))\n",
    "        model.compile(loss=None, optimizer=\"adam\")\n",
    "        print(model.summary())\n",
    "    else:\n",
    "        model = keras.models.Model(inputs = x, outputs=y_pred, name=\"predict\")\n",
    "        model.compile(loss=\"mse\", optimizer=\"adam\")\n",
    "        print(model.summary())\n",
    "    \n",
    "    return model\n",
    "\n",
    "# call model\n",
    "model_train = buildmodel(is_train=True)\n",
    "model_predict = buildmodel(is_train=False)"
   ]
  },
  {
   "cell_type": "code",
   "execution_count": 3,
   "metadata": {},
   "outputs": [
    {
     "name": "stdout",
     "output_type": "stream",
     "text": [
      "[[-0.02102647 -0.05163283]]\n",
      "0\n",
      "-0.021026473\n"
     ]
    }
   ],
   "source": [
    "#print(np.expand_dims(np.array([data[0:60]]),2).reshape(60,1))\n",
    "print(model_predict.predict(np.expand_dims(np.array([data[0:60]]),2)))\n",
    "print(np.argmax(model_predict.predict(np.expand_dims(np.array([data[0:60]]),2))))\n",
    "print(np.max(model_predict.predict(np.expand_dims(np.array([data[0:60]]),2))))"
   ]
  },
  {
   "cell_type": "code",
   "execution_count": 4,
   "metadata": {},
   "outputs": [],
   "source": [
    "# functions to process dataframe to run through above\n",
    "def prep_targets(pred_s,pred_s1,a_vals,r_vals ):\n",
    "    y =np.empty([0,2])\n",
    "    for i in range(len(a_vals)):\n",
    "        a = a_vals[i]\n",
    "        r = r_vals[i]\n",
    "        if a == 0: # if action is sell\n",
    "            temp = [r + 0.9*np.max(pred_s1[i]), pred_s[i][1]]\n",
    "        else: # if a == 1 aka buy\n",
    "            temp = [pred_s[i][1],r + 0.9*np.max(pred_s1[i])]\n",
    "        y = np.append(y,np.array(temp))       \n",
    "    return y"
   ]
  },
  {
   "cell_type": "code",
   "execution_count": 5,
   "metadata": {
    "scrolled": false
   },
   "outputs": [],
   "source": [
    "# cell to design training function\n",
    "\n",
    "# there are 2^step possible sets of choices. We'll start random walking, \n",
    "# training our algorithm stochastically,\n",
    "# as well as batch learning once our experience replay dict get large enough\n",
    "\n",
    "# inputs to function are as follows\n",
    "# epoch is number of cycles\n",
    "# batch_size is size of batch to train from experience replay dataset\n",
    "# mod is reward modifier \n",
    "# gamma is gamma setting\n",
    "# prob is random walk probability\n",
    "\n",
    "def training_function(epoch,batch_size,step,mod,gamma,prob):\n",
    "    # dataframe to save experience replay shenanigans\n",
    "    replay = SumTree(10000)\n",
    "    # training metrics\n",
    "    losses = [0]\n",
    "    values = [0]\n",
    "    # initialise eta parameter\n",
    "    eta = 0\n",
    "    epoch_time = 0\n",
    "    small = True # value for checking whether to do batch learn\n",
    "    # start epoch loop\n",
    "    for its in range(epoch):\n",
    "        # start recording time\n",
    "        loop_start = time.time()\n",
    "        \n",
    "        # loss addition parameter\n",
    "        loss = 0\n",
    "        \n",
    "        # arrays to store values of portfolio to generate rewards from\n",
    "        cash = [1000]\n",
    "        position = [0]\n",
    "        value =[1000]\n",
    "        \n",
    "        # start random/qvalue walk through timeseries data w step day slices\n",
    "        for t in range(len(data)- step):\n",
    "            if small:\n",
    "                clear_output(wait=True)\n",
    "            \n",
    "            # define current environment/state (s) and next environment (s1)\n",
    "            s = data[t:t+step]\n",
    "            s_trans = np.expand_dims(np.array([s]),2) # transformed for feeding into model\n",
    "            s1 = data[t+1:t+step+1]\n",
    "            s1_trans = np.expand_dims(np.array([s1]),2)\n",
    "            # update cash and position metrics\n",
    "            def a_is_0():\n",
    "                if cash[-1] == 0:\n",
    "                    cash.append(position[-1]*s1[-1])\n",
    "                    position.append(0)\n",
    "                    value.append(cash[-1])\n",
    "                else:\n",
    "                    cash.append(cash[-1])\n",
    "                    position.append(0)\n",
    "                    opportunity_cost = s[-1]/s1[-1] \n",
    "                    value.append(value[-1]*opportunity_cost)\n",
    "            def a_is_1():\n",
    "                if position[-1] == 0:\n",
    "                    position.append(cash[-1]/s1[-1])\n",
    "                    cash.append(0)\n",
    "                    value.append(position[-1]*s1[-1])\n",
    "                else:\n",
    "                    position.append(position[-1])\n",
    "                    value.append(position[-1]*s1[-1])\n",
    "            \n",
    "            # chance of random action rather than action by bigger Q score\n",
    "            if random.uniform(0,1) < prob:\n",
    "                # random walk\n",
    "                a = np.random.choice([0,1])\n",
    "                if a == 0:\n",
    "                    a_is_0()\n",
    "                    # r is defined by the change in the value of the portforlio\n",
    "                    r = mod * ((value[-1] - value[-2])/value[-1])\n",
    "                else:\n",
    "                    a_is_1()\n",
    "                    r = mod * ((value[-1] - value[-2])/value[-1])\n",
    "            # choose action by max Q score\n",
    "            else:\n",
    "                a = np.argmax(model_predict.predict(s_trans)[0])\n",
    "                if a == 0:\n",
    "                    a_is_0()\n",
    "                    r = mod * ((value[-1] - value[-2])/value[-1])\n",
    "                else:\n",
    "                    a_is_1()\n",
    "                    r = mod * ((value[-1] - value[-2])/value[-1])\n",
    "            \n",
    "            # generation array of predicted qvalues from current state\n",
    "            qs = model_predict.predict(s_trans)[0]\n",
    "            # get max qvalue from next state\n",
    "            maxqs1 = np.max(model_predict.predict(s1_trans)[0])\n",
    "            \n",
    "            # set targets for training/backprop depending on action taken\n",
    "            # also generate Pt value (for priority replay training when selecting batch)\n",
    "            if a == 0: # if action is sell\n",
    "                target = [r + gamma*maxqs1, qs[1]]\n",
    "                Pt = abs(qs[0] - (r + gamma*maxqs1)) + 0.001\n",
    "            else: # if a == 1 aka buy\n",
    "                target = [qs[0],r + gamma*maxqs1]\n",
    "                Pt = abs(qs[1] - (r + gamma*maxqs1))+0.001\n",
    "            \n",
    "            # store values in sumtree\n",
    "            store = list(s) + [s1[-1]] + [a] + [r]\n",
    "            replay.add(Pt, np.array(store))\n",
    "            \n",
    "            if small:\n",
    "                print(\"epoch:\",its,\" step:\", t, \"loss: {:.2f}\".format(losses[-1]),\n",
    "                      \"value:{:.2f}\".format(np.mean(value)),\n",
    "                      \"memory usage:{:.2f}mb\".format(replay.memory()/1000000))\n",
    "\n",
    "            # do forward pass of training on current inputs\n",
    "            loss += model_train.train_on_batch([s_trans, np.array([target]), np.array([1])])\n",
    "            model_predict.set_weights(model_train.get_weights())\n",
    "            \n",
    "            # this is to learn from replay experience memory\n",
    "            # batch learning w batch_size samples if number of samples reaches batch_size\n",
    "            tmod = (t % 10) == 0\n",
    "            if small:\n",
    "                if np.count_nonzero(replay.p_array()) > batch_size:\n",
    "                    small = False\n",
    "            if (not small) and tmod:\n",
    "                prob = 0.1\n",
    "                # prepare data\n",
    "                print(\"prepare dataframe\")\n",
    "                replay.normalise() # to normalise probabilities from 0-1 of getting picked\n",
    "                p_array = replay.p_array() # generate prob array\n",
    "                sample = np.random.choice(p_array,batch_size,replace=False,p=p_array)\n",
    "                x = np.empty([0,step])\n",
    "                state1 = np.empty([0,step])\n",
    "                a = np.empty([0,1])\n",
    "                r = np.empty([0,1])\n",
    "                is_weight = np.empty([0,1])\n",
    "                ids = np.empty([0,1])\n",
    "                for i in range(batch_size):\n",
    "                    idx, p_value, data_array = replay.get(sample[i])\n",
    "                    x = np.append(x,data_array[0:step])\n",
    "                    state1 = np.append(state1,data_array[1:step+1])\n",
    "                    a = np.append(a,[data_array[-2]])\n",
    "                    r = np.append(r,[data_array[-1]])\n",
    "                    is_weight = np.append(is_weight,[np.power(1/(np.count_nonzero(p_array)*p_value),(its/epoch))])\n",
    "                    ids = np.append(ids,[idx])\n",
    "                # print(is_weight[1:10])\n",
    "                \n",
    "                replay.unnormalise() # restore Pts\n",
    "                # batch predict for speed\n",
    "                x = np.expand_dims(x.reshape([batch_size,step]),2) #reshape and state1\n",
    "                state1 = np.expand_dims(state1.reshape([batch_size,step]),2)\n",
    "                \n",
    "                qs1 = model_predict.predict(state1) # make q value table for state (x) and state 1\n",
    "                Qs = model_predict.predict(x)\n",
    "                                \n",
    "                y = prep_targets(Qs,qs1, a, r)\n",
    "                y = y.reshape([batch_size,2]) # y reshape for LSTM input\n",
    "                \n",
    "                clear_output(wait=True)\n",
    "                batch_size\n",
    "                print(\"epoch:\",its,\" step:\", t, \"loss: {:.2f}\".format(losses[-1]),\n",
    "                      \"value:{:.2f}\".format(values[-1]),\n",
    "                      \"cur_value:{:.2f}\".format(value[-1]),\n",
    "                      \"memory usage:{:.2f}mb\".format(replay.memory()/1000000),\n",
    "                      \"eta:{:.2f}mins\".format(eta/step))\n",
    "                print(a[-1],Qs[-1],r[-1],((r[-1] + gamma*np.max(qs1[-1]))))\n",
    "    \n",
    "                model_train.fit([x,y,is_weight]) # fit model on batch\n",
    "                model_predict.set_weights(model_train.get_weights()) # sync weights\n",
    "            \n",
    "            eta = (epoch_time * (epoch - its)) - epoch_time*(t/(len(data) - step)) \n",
    "        losses.append(loss[0][0])\n",
    "        values.append(np.mean(value))\n",
    "        epoch_time = time.time()-loop_start\n",
    "    return losses, values, replay\n",
    "    "
   ]
  },
  {
   "cell_type": "code",
   "execution_count": null,
   "metadata": {
    "scrolled": true
   },
   "outputs": [
    {
     "name": "stdout",
     "output_type": "stream",
     "text": [
      "epoch: 1  step: 120 loss: 736.46 value:968.08 cur_value:728.60 memory usage:0.24mb eta:57.78mins\n",
      "0.0 [-3.854482   -0.28859654] -3.597592315906053 -3.8537424453434994\n",
      "96/96 [==============================] - 1s 5ms/sample - loss: 0.0012\n"
     ]
    }
   ],
   "source": [
    "loss_array, value_array, memory = training_function(epoch=100,\n",
    "                                                    batch_size = 32*3,\n",
    "                                                    step = 60,\n",
    "                                                    mod = 100,\n",
    "                                                    gamma = 0.9,\n",
    "                                                    prob = 0.5\n",
    "                                                   )"
   ]
  },
  {
   "cell_type": "code",
   "execution_count": 359,
   "metadata": {
    "scrolled": false
   },
   "outputs": [
    {
     "data": {
      "text/plain": [
       "<matplotlib.axes._subplots.AxesSubplot at 0x7fc04df9f710>"
      ]
     },
     "execution_count": 359,
     "metadata": {},
     "output_type": "execute_result"
    },
    {
     "data": {
      "image/png": "[encoded data removed]",
      "text/plain": [
       "<Figure size 432x288 with 1 Axes>"
      ]
     },
     "metadata": {
      "needs_background": "light"
     },
     "output_type": "display_data"
    }
   ],
   "source": [
    "sns.scatterplot(range(len(value_array)),value_array)\n"
   ]
  },
  {
   "cell_type": "code",
   "execution_count": 163,
   "metadata": {},
   "outputs": [
    {
     "data": {
      "text/plain": [
       "<matplotlib.axes._subplots.AxesSubplot at 0x7f2214937eb8>"
      ]
     },
     "execution_count": 163,
     "metadata": {},
     "output_type": "execute_result"
    },
    {
     "data": {
      "image/png": "[encoded data removed]",
      "text/plain": [
       "<Figure size 432x288 with 1 Axes>"
      ]
     },
     "metadata": {
      "needs_background": "light"
     },
     "output_type": "display_data"
    }
   ],
   "source": [
    "sns.scatterplot(range(len(value_array)),value_array)"
   ]
  },
  {
   "cell_type": "code",
   "execution_count": 174,
   "metadata": {
    "scrolled": true
   },
   "outputs": [
    {
     "name": "stdout",
     "output_type": "stream",
     "text": [
      "[595.8757854078823]\n",
      "141 200\n"
     ]
    }
   ],
   "source": [
    "def run(iterations):\n",
    "    values = []\n",
    "    for iteration in range(iterations):\n",
    "        cash = [1000]\n",
    "        position = [0]\n",
    "        value =[1000]\n",
    "        for t in range(len(data)- 60):\n",
    "            # define current environment/state (s) and next environment (s1)\n",
    "            s = data[t:t+60]\n",
    "            s_trans = np.expand_dims(np.array([s]),2)\n",
    "            s1 = data[t+1:t+61]\n",
    "            # update cash and position metrics\n",
    "            def a_is_0():\n",
    "                if cash[-1] == 0:\n",
    "                    cash.append(position[-1]*s1[-1])\n",
    "                    position.append(0)\n",
    "                    value.append(cash[-1])\n",
    "                else:\n",
    "                    cash.append(cash[-1])\n",
    "                    position.append(0)\n",
    "                    value.append(cash[-1])\n",
    "            def a_is_1():\n",
    "                if position[-1] == 0:\n",
    "                    position.append(cash[-1]/s1[-1])\n",
    "                    cash.append(0)\n",
    "                    value.append(position[-1]*s1[-1])\n",
    "                else:\n",
    "                    position.append(position[-1])\n",
    "                    value.append(position[-1]*s1[-1])\n",
    "\n",
    "            # random walk\n",
    "            a = a = np.argmax(model_predict.predict(s_trans))\n",
    "            if a == 0:\n",
    "                a_is_0()\n",
    "            else:\n",
    "                a_is_1()\n",
    "        values.append(np.mean(value))\n",
    "    return values, value\n",
    "\n",
    "yolo, chikas = run(1)\n",
    "print(yolo)\n",
    "print(len(chikas), len(data))\n",
    "\n"
   ]
  },
  {
   "cell_type": "code",
   "execution_count": 175,
   "metadata": {},
   "outputs": [
    {
     "data": {
      "text/plain": [
       "<matplotlib.axes._subplots.AxesSubplot at 0x7f22144a4ba8>"
      ]
     },
     "execution_count": 175,
     "metadata": {},
     "output_type": "execute_result"
    },
    {
     "data": {
      "image/png": "[encoded data removed]",
      "text/plain": [
       "<Figure size 432x288 with 1 Axes>"
      ]
     },
     "metadata": {
      "needs_background": "light"
     },
     "output_type": "display_data"
    }
   ],
   "source": [
    "sns.scatterplot(np.arange(0,len(data),1),data-1)\n",
    "sns.scatterplot(np.arange(60,60+len(chikas),1),(chikas-np.min(chikas))/(np.max(chikas)-np.min(chikas)))"
   ]
  },
  {
   "cell_type": "code",
   "execution_count": null,
   "metadata": {},
   "outputs": [],
   "source": []
  }
 ],
 "metadata": {
  "kernelspec": {
   "display_name": "Python 3",
   "language": "python",
   "name": "python3"
  },
  "language_info": {
   "codemirror_mode": {
    "name": "ipython",
    "version": 3
   },
   "file_extension": ".py",
   "mimetype": "text/x-python",
   "name": "python",
   "nbconvert_exporter": "python",
   "pygments_lexer": "ipython3",
   "version": "3.7.3"
  }
 },
 "nbformat": 4,
 "nbformat_minor": 2
}
