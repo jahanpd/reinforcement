{
 "cells": [
  {
   "cell_type": "code",
   "execution_count": 1,
   "metadata": {},
   "outputs": [],
   "source": [
    "import numpy\n",
    "\n",
    "class SumTree:\n",
    "    write = 0\n",
    "\n",
    "    def __init__(self, capacity):\n",
    "        self.capacity = capacity\n",
    "        self.tree = numpy.zeros( 2*capacity - 1 )\n",
    "        self.data = numpy.zeros( capacity, dtype=object )\n",
    "\n",
    "    def _propagate(self, idx, change):\n",
    "        parent = (idx - 1) // 2\n",
    "\n",
    "        self.tree[parent] += change\n",
    "\n",
    "        if parent != 0:\n",
    "            self._propagate(parent, change)\n",
    "\n",
    "    def _retrieve(self, idx, s):\n",
    "        left = 2 * idx + 1\n",
    "        right = left + 1\n",
    "\n",
    "        if left >= len(self.tree):\n",
    "            return idx\n",
    "\n",
    "        if s <= self.tree[left]:\n",
    "            return self._retrieve(left, s)\n",
    "        else:\n",
    "            return self._retrieve(right, s-self.tree[left])\n",
    "\n",
    "    def total(self):\n",
    "        return self.tree[0]\n",
    "\n",
    "    def p_array(self):\n",
    "        return self.tree[-self.capacity:]\n",
    "    \n",
    "    def add(self, p, data):\n",
    "        idx = self.write + self.capacity - 1\n",
    "\n",
    "        self.data[self.write] = data\n",
    "        self.update(idx, p)\n",
    "\n",
    "        self.write += 1\n",
    "        if self.write >= self.capacity:\n",
    "            self.write = 0\n",
    "\n",
    "    def update(self, idx, p):\n",
    "        change = p - self.tree[idx]\n",
    "\n",
    "        self.tree[idx] = p\n",
    "        self._propagate(idx, change)\n",
    "\n",
    "    def get(self, s):\n",
    "        idx = self._retrieve(0, s)\n",
    "        dataIdx = idx - self.capacity + 1\n",
    "\n",
    "        return (idx, self.tree[idx], self.data[dataIdx])\n",
    "    \n",
    "    def normalise(self):\n",
    "        self.total = numpy.sum(self.tree[-self.capacity:])\n",
    "        for i in range(self.capacity - 1, len(self.tree), 1):\n",
    "            p_norm = self.tree[i]/self.total\n",
    "            self.update(i, p_norm)\n",
    "    \n",
    "    def unnormalise(self):\n",
    "        for i in range(self.capacity - 1, len(self.tree), 1):\n",
    "            p = self.tree[i]*self.total\n",
    "            self.update(i, p)"
   ]
  },
  {
   "cell_type": "code",
   "execution_count": 2,
   "metadata": {},
   "outputs": [],
   "source": [
    "\n",
    "sumtree = SumTree(10)\n"
   ]
  },
  {
   "cell_type": "code",
   "execution_count": 3,
   "metadata": {},
   "outputs": [
    {
     "name": "stdout",
     "output_type": "stream",
     "text": [
      "[array([1, 2, 3]) list([0.2, 1]) list([0.3, 2]) list([0.4, 3]) 0 0 0 0 0 0]\n",
      "[6.1 2.1 4.  0.  2.1 4.  0.  0.  0.  0.1 2.  3.  1.  0.  0.  0.  0.  0.\n",
      " 0. ]\n",
      "6.1\n",
      "[1.         0.3442623  0.6557377  0.         0.3442623  0.6557377\n",
      " 0.         0.         0.         0.01639344 0.32786885 0.49180328\n",
      " 0.16393443 0.         0.         0.         0.         0.\n",
      " 0.        ]\n",
      "(11, 3.0, [0.3, 2])\n"
     ]
    }
   ],
   "source": [
    "sumtree.add(0.1,numpy.array([1,2,3]))\n",
    "sumtree.add(2,[0.2,1])\n",
    "sumtree.add(3,[0.3,2])\n",
    "sumtree.add(1,[0.4,3])\n",
    "print(sumtree.data)\n",
    "print(sumtree.tree)\n",
    "print(sumtree.total())\n",
    "sumtree.normalise()\n",
    "print(sumtree.tree)\n",
    "sumtree.unnormalise()\n",
    "print(sumtree.get(2.6))"
   ]
  },
  {
   "cell_type": "code",
   "execution_count": 27,
   "metadata": {},
   "outputs": [
    {
     "name": "stdout",
     "output_type": "stream",
     "text": [
      "1\n"
     ]
    }
   ],
   "source": [
    "print(11//6)"
   ]
  },
  {
   "cell_type": "code",
   "execution_count": null,
   "metadata": {},
   "outputs": [],
   "source": []
  }
 ],
 "metadata": {
  "kernelspec": {
   "display_name": "Python 3",
   "language": "python",
   "name": "python3"
  },
  "language_info": {
   "codemirror_mode": {
    "name": "ipython",
    "version": 3
   },
   "file_extension": ".py",
   "mimetype": "text/x-python",
   "name": "python",
   "nbconvert_exporter": "python",
   "pygments_lexer": "ipython3",
   "version": "3.7.3"
  }
 },
 "nbformat": 4,
 "nbformat_minor": 2
}
